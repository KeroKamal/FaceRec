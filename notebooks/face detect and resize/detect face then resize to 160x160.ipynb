{
 "cells": [
  {
   "cell_type": "code",
   "execution_count": null,
   "metadata": {},
   "outputs": [],
   "source": [
    "from PIL import Image\n",
    "import os\n",
    "import torch\n",
    "from facenet_pytorch import MTCNN\n",
    "\n",
    "device = torch.device('cuda' if torch.cuda.is_available() else 'cpu')\n",
    "mtcnn = MTCNN(keep_all=False, device=device)\n",
    "\n",
    "def detect_and_resize_faces_in_folder(folder_path, output_folder, size=(160, 160)):\n",
    "    if not os.path.exists(output_folder):\n",
    "        os.makedirs(output_folder)\n",
    "    \n",
    "    for img_name in os.listdir(folder_path):\n",
    "        img_path = os.path.join(folder_path, img_name)\n",
    "        with Image.open(img_path).convert('RGB') as img:\n",
    "            boxes, _ = mtcnn.detect(img)\n",
    "            if boxes is not None:\n",
    "                for i, box in enumerate(boxes):\n",
    "                    box = [int(b) for b in box]\n",
    "                    face = img.crop((box[0], box[1], box[2], box[3]))\n",
    "                    resized_face = face.resize(size, Image.LANCZOS)\n",
    "                    resized_face.save(os.path.join(output_folder, f\"{os.path.splitext(img_name)[0]}_face{i}.jpg\"))\n",
    "            else:\n",
    "                print(f\"No faces detected in {img_name}\")\n",
    "    print(f\"All images in {folder_path} have been processed and saved in {output_folder}.\")\n",
    "\n",
    "input_folder = \"C:/Users/Kero/Desktop/my project/faces/Omar\"\n",
    "output_folder = \"C:/Users/Kero/Desktop/my project/faces/Omar (160x160)\"\n",
    "detect_and_resize_faces_in_folder(input_folder, output_folder)\n"
   ]
  }
 ],
 "metadata": {
  "kernelspec": {
   "display_name": "faceENV",
   "language": "python",
   "name": "python3"
  },
  "language_info": {
   "codemirror_mode": {
    "name": "ipython",
    "version": 3
   },
   "file_extension": ".py",
   "mimetype": "text/x-python",
   "name": "python",
   "nbconvert_exporter": "python",
   "pygments_lexer": "ipython3",
   "version": "3.9.0"
  }
 },
 "nbformat": 4,
 "nbformat_minor": 2
}
