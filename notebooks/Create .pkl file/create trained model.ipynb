{
 "cells": [
  {
   "cell_type": "code",
   "execution_count": null,
   "metadata": {},
   "outputs": [],
   "source": [
    "import os\n",
    "import torch\n",
    "from facenet_pytorch import MTCNN, InceptionResnetV1\n",
    "import numpy as np\n",
    "import pickle\n",
    "from PIL import Image\n",
    "\n",
    "mtcnn = MTCNN(keep_all=True)\n",
    "model = InceptionResnetV1(pretrained='vggface2').eval()\n",
    "\n",
    "def extract_embeddings_from_dataset(dataset_path):\n",
    "    dataset = {}\n",
    "    for name in os.listdir(dataset_path):\n",
    "        person_path = os.path.join(dataset_path, name)\n",
    "        if os.path.isdir(person_path):\n",
    "            dataset[name] = []\n",
    "            for img_name in os.listdir(person_path):\n",
    "                img_path = os.path.join(person_path, img_name)\n",
    "                img = Image.open(img_path).convert('RGB')\n",
    "                faces = mtcnn(img)\n",
    "                if faces is not None:\n",
    "                    for face in faces:\n",
    "                        embedding = model(face.unsqueeze(0)).detach().cpu().numpy()\n",
    "                        dataset[name].append(embedding)\n",
    "    return dataset\n",
    "\n",
    "def save_embeddings_to_file(dataset, output_path):\n",
    "    with open(output_path, 'wb') as file:\n",
    "        pickle.dump(dataset, file)\n",
    "\n",
    "dataset_path = \"C:/Users/Kero/Desktop/my project/faces\"\n",
    "output_path = \"C:/Users/Kero/Desktop/my project/face_model.pkl\"\n",
    "\n",
    "dataset = extract_embeddings_from_dataset(dataset_path)\n",
    "save_embeddings_to_file(dataset, output_path)\n",
    "print(f\"Model saved to {output_path}\")\n"
   ]
  }
 ],
 "metadata": {
  "kernelspec": {
   "display_name": "faceENV",
   "language": "python",
   "name": "python3"
  },
  "language_info": {
   "codemirror_mode": {
    "name": "ipython",
    "version": 3
   },
   "file_extension": ".py",
   "mimetype": "text/x-python",
   "name": "python",
   "nbconvert_exporter": "python",
   "pygments_lexer": "ipython3",
   "version": "3.9.0"
  }
 },
 "nbformat": 4,
 "nbformat_minor": 2
}
